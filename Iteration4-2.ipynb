{
 "cells": [
  {
   "cell_type": "code",
   "execution_count": 164,
   "metadata": {},
   "outputs": [],
   "source": [
    "import findspark\n",
    "findspark.init('/home/ubuntu/spark-2.1.1-bin-hadoop2.7')\n",
    "import pyspark\n",
    "from pyspark.sql import SparkSession\n",
    "spark = SparkSession.builder.appName('722_Iteration4').getOrCreate()\n"
   ]
  },
  {
   "cell_type": "code",
   "execution_count": 165,
   "metadata": {},
   "outputs": [],
   "source": [
    "df = spark.read.load('./COVID19 cases Toronto.csv', format=\"csv\", header=\"true\")"
   ]
  },
  {
   "cell_type": "code",
   "execution_count": 166,
   "metadata": {},
   "outputs": [
    {
     "data": {
      "text/plain": [
       "14911"
      ]
     },
     "execution_count": 166,
     "metadata": {},
     "output_type": "execute_result"
    }
   ],
   "source": [
    "df.count()"
   ]
  },
  {
   "cell_type": "code",
   "execution_count": 167,
   "metadata": {},
   "outputs": [
    {
     "data": {
      "text/plain": [
       "Row(_id='44294', Outbreak Associated='Sporadic', Age Group='50-59', Neighbourhood Name='Malvern', Source of Infection='Institutional', Classification='CONFIRMED', Episode Date='2020/3/25', Reported Date='2020/3/27', Client Gender='MALE', Outcome='RESOLVED', Currently Hospitalized='No', Currently in ICU='No', Currently Intubated='No', Ever Hospitalized='No', Ever in ICU='No', Ever Intubated='No')"
      ]
     },
     "execution_count": 167,
     "metadata": {},
     "output_type": "execute_result"
    }
   ],
   "source": [
    "df.head()"
   ]
  },
  {
   "cell_type": "code",
   "execution_count": 168,
   "metadata": {},
   "outputs": [
    {
     "name": "stdout",
     "output_type": "stream",
     "text": [
      "root\n",
      " |-- _id: string (nullable = true)\n",
      " |-- Outbreak Associated: string (nullable = true)\n",
      " |-- Age Group: string (nullable = true)\n",
      " |-- Neighbourhood Name: string (nullable = true)\n",
      " |-- Source of Infection: string (nullable = true)\n",
      " |-- Classification: string (nullable = true)\n",
      " |-- Episode Date: string (nullable = true)\n",
      " |-- Reported Date: string (nullable = true)\n",
      " |-- Client Gender: string (nullable = true)\n",
      " |-- Outcome: string (nullable = true)\n",
      " |-- Currently Hospitalized: string (nullable = true)\n",
      " |-- Currently in ICU: string (nullable = true)\n",
      " |-- Currently Intubated: string (nullable = true)\n",
      " |-- Ever Hospitalized: string (nullable = true)\n",
      " |-- Ever in ICU: string (nullable = true)\n",
      " |-- Ever Intubated: string (nullable = true)\n",
      "\n"
     ]
    }
   ],
   "source": [
    "df.printSchema()"
   ]
  },
  {
   "cell_type": "code",
   "execution_count": 169,
   "metadata": {},
   "outputs": [],
   "source": [
    "from pyspark.sql.types import (StructField,StringType,IntegerType,StructType)"
   ]
  },
  {
   "cell_type": "code",
   "execution_count": 170,
   "metadata": {},
   "outputs": [],
   "source": [
    "data_schema=[StructField(\"_id\", IntegerType(), True),\n",
    "             StructField(\"Outbreak Associated\", StringType(), True),\n",
    "             StructField(\"Age Group\", StringType(), True),\n",
    "             StructField(\"Neighbourhood Name\", StringType(), True),\n",
    "             StructField(\"Source of Infection\", StringType(), True),\n",
    "             StructField(\"Classification\", StringType(), True),\n",
    "             StructField(\"Episode Date\", StringType(), True),\n",
    "             StructField(\"Reported Date\", StringType(), True),\n",
    "             StructField(\"Client Gender\", StringType(), True),\n",
    "             StructField(\"Outcome\", StringType(), True),\n",
    "             StructField(\"Currently Hospitalized\", StringType(), True),\n",
    "             StructField(\"Currently in ICU\", StringType(), True),\n",
    "             StructField(\"Currently Intubated\", StringType(), True),\n",
    "             StructField(\"Ever Hospitalized\", StringType(), True),\n",
    "             StructField(\"Ever in ICU\", StringType(), True),\n",
    "             StructField(\"Ever Intubated\", StringType(), True),             \n",
    "]\n",
    "final_struct=StructType(fields=data_schema)\n",
    "df = spark.read.load('./COVID19 cases Toronto.csv', format=\"csv\", header=\"true\",schema=final_struct)"
   ]
  },
  {
   "cell_type": "code",
   "execution_count": 171,
   "metadata": {},
   "outputs": [
    {
     "name": "stdout",
     "output_type": "stream",
     "text": [
      "root\n",
      " |-- _id: integer (nullable = true)\n",
      " |-- Outbreak Associated: string (nullable = true)\n",
      " |-- Age Group: string (nullable = true)\n",
      " |-- Neighbourhood Name: string (nullable = true)\n",
      " |-- Source of Infection: string (nullable = true)\n",
      " |-- Classification: string (nullable = true)\n",
      " |-- Episode Date: string (nullable = true)\n",
      " |-- Reported Date: string (nullable = true)\n",
      " |-- Client Gender: string (nullable = true)\n",
      " |-- Outcome: string (nullable = true)\n",
      " |-- Currently Hospitalized: string (nullable = true)\n",
      " |-- Currently in ICU: string (nullable = true)\n",
      " |-- Currently Intubated: string (nullable = true)\n",
      " |-- Ever Hospitalized: string (nullable = true)\n",
      " |-- Ever in ICU: string (nullable = true)\n",
      " |-- Ever Intubated: string (nullable = true)\n",
      "\n"
     ]
    }
   ],
   "source": [
    "df.printSchema()"
   ]
  },
  {
   "cell_type": "code",
   "execution_count": 172,
   "metadata": {},
   "outputs": [
    {
     "name": "stdout",
     "output_type": "stream",
     "text": [
      "+-----+-------------------+--------------+------------------+--------------------+--------------+------------+-------------+-------------+\n",
      "|  _id|Outbreak Associated|     Age Group|Neighbourhood Name| Source of Infection|Classification|Episode Date|Reported Date|Client Gender|\n",
      "+-----+-------------------+--------------+------------------+--------------------+--------------+------------+-------------+-------------+\n",
      "|44294|           Sporadic|         50-59|           Malvern|       Institutional|     CONFIRMED|   2020/3/25|    2020/3/27|         MALE|\n",
      "|44295|           Sporadic|         20-29|           Malvern|           Community|     CONFIRMED|   2020/3/20|    2020/3/28|         MALE|\n",
      "|44296|           Sporadic|         60-69|           Malvern|              Travel|     CONFIRMED|    2020/3/4|     2020/3/8|       FEMALE|\n",
      "|44297|Outbreak Associated|         50-59|             Rouge|N/A - Outbreak as...|     CONFIRMED|    2020/5/2|     2020/5/4|       FEMALE|\n",
      "|44298|           Sporadic|         30-39|             Rouge|       Close contact|     CONFIRMED|   2020/5/31|     2020/6/6|       FEMALE|\n",
      "|44299|           Sporadic|         20-29|             Rouge|       Close contact|     CONFIRMED|    2020/6/1|     2020/6/6|         MALE|\n",
      "|44300|           Sporadic|         60-69|             Rouge|           Community|     CONFIRMED|   2020/5/22|     2020/6/1|         MALE|\n",
      "|44301|           Sporadic|         30-39|             Rouge|       Close contact|      PROBABLE|   2020/5/26|     2020/6/2|         MALE|\n",
      "|44302|           Sporadic|         30-39|           Malvern|       Close contact|     CONFIRMED|   2020/5/11|    2020/5/16|         MALE|\n",
      "|44303|           Sporadic|19 and younger|           Malvern|       Close contact|      PROBABLE|    2020/6/6|     2020/6/9|         MALE|\n",
      "|44304|           Sporadic|         30-39|           Malvern|       Close contact|     CONFIRMED|   2020/5/17|    2020/5/21|         MALE|\n",
      "|44305|Outbreak Associated|         20-29|           Malvern|N/A - Outbreak as...|     CONFIRMED|   2020/4/23|    2020/4/25|         MALE|\n",
      "|44306|           Sporadic|         30-39|           Malvern|             Pending|     CONFIRMED|   2020/4/22|    2020/4/22|         MALE|\n",
      "|44307|           Sporadic|         30-39|           Malvern|       Close contact|     CONFIRMED|   2020/5/28|     2020/6/6|         MALE|\n",
      "|44308|           Sporadic|         80-89|           Malvern|           Community|     CONFIRMED|   2020/4/11|    2020/4/12|         MALE|\n",
      "|44309|           Sporadic|         80-89|           Malvern|          Healthcare|     CONFIRMED|    2020/5/9|     2020/6/3|       FEMALE|\n",
      "|44310|           Sporadic|         50-59|           Malvern|       Institutional|     CONFIRMED|   2020/4/13|    2020/4/15|       FEMALE|\n",
      "|44311|Outbreak Associated|         30-39|           Malvern|N/A - Outbreak as...|     CONFIRMED|   2020/5/13|    2020/5/17|         MALE|\n",
      "|44312|           Sporadic|         20-29|           Malvern|       Close contact|     CONFIRMED|   2020/5/19|    2020/5/23|         MALE|\n",
      "|44313|Outbreak Associated|         20-29|           Malvern|N/A - Outbreak as...|     CONFIRMED|   2020/4/18|     2020/5/4|       FEMALE|\n",
      "+-----+-------------------+--------------+------------------+--------------------+--------------+------------+-------------+-------------+\n",
      "only showing top 20 rows\n",
      "\n"
     ]
    }
   ],
   "source": [
    "df.select('_id',\n",
    "          'Outbreak Associated',\n",
    "          'Age Group',\n",
    "          'Neighbourhood Name',\n",
    "          'Source of Infection',\n",
    "          'Classification',\n",
    "          'Episode Date',\n",
    "          'Reported Date',\n",
    "          'Client Gender').show()"
   ]
  },
  {
   "cell_type": "code",
   "execution_count": 173,
   "metadata": {},
   "outputs": [
    {
     "name": "stdout",
     "output_type": "stream",
     "text": [
      "+--------+----------------------+----------------+-------------------+-----------------+-----------+--------------+\n",
      "| Outcome|Currently Hospitalized|Currently in ICU|Currently Intubated|Ever Hospitalized|Ever in ICU|Ever Intubated|\n",
      "+--------+----------------------+----------------+-------------------+-----------------+-----------+--------------+\n",
      "|RESOLVED|                    No|              No|                 No|               No|         No|            No|\n",
      "|RESOLVED|                    No|              No|                 No|              Yes|         No|            No|\n",
      "|RESOLVED|                    No|              No|                 No|              Yes|        Yes|           Yes|\n",
      "|RESOLVED|                    No|              No|                 No|               No|         No|            No|\n",
      "|RESOLVED|                    No|              No|                 No|               No|         No|            No|\n",
      "|RESOLVED|                    No|              No|                 No|               No|         No|            No|\n",
      "|RESOLVED|                    No|              No|                 No|               No|         No|            No|\n",
      "|RESOLVED|                    No|              No|                 No|               No|         No|            No|\n",
      "|RESOLVED|                    No|              No|                 No|               No|         No|            No|\n",
      "|RESOLVED|                    No|              No|                 No|               No|         No|            No|\n",
      "|RESOLVED|                    No|              No|                 No|               No|         No|            No|\n",
      "|RESOLVED|                    No|              No|                 No|               No|         No|            No|\n",
      "|RESOLVED|                    No|              No|                 No|               No|         No|            No|\n",
      "|RESOLVED|                    No|              No|                 No|               No|         No|            No|\n",
      "|   FATAL|                    No|              No|                 No|              Yes|         No|            No|\n",
      "|RESOLVED|                    No|              No|                 No|              Yes|         No|            No|\n",
      "|RESOLVED|                    No|              No|                 No|               No|         No|            No|\n",
      "|RESOLVED|                    No|              No|                 No|               No|         No|            No|\n",
      "|RESOLVED|                    No|              No|                 No|               No|         No|            No|\n",
      "|RESOLVED|                    No|              No|                 No|               No|         No|            No|\n",
      "+--------+----------------------+----------------+-------------------+-----------------+-----------+--------------+\n",
      "only showing top 20 rows\n",
      "\n"
     ]
    }
   ],
   "source": [
    "df.select('Outcome',\n",
    " 'Currently Hospitalized',\n",
    " 'Currently in ICU',\n",
    " 'Currently Intubated',\n",
    " 'Ever Hospitalized',\n",
    " 'Ever in ICU',\n",
    " 'Ever Intubated').show()"
   ]
  },
  {
   "cell_type": "code",
   "execution_count": 174,
   "metadata": {},
   "outputs": [],
   "source": [
    "#df.write.format('com.databricks.spark.csv').save('df.csv')"
   ]
  },
  {
   "cell_type": "code",
   "execution_count": 175,
   "metadata": {},
   "outputs": [
    {
     "data": {
      "text/plain": [
       "['_id',\n",
       " 'Outbreak Associated',\n",
       " 'Age Group',\n",
       " 'Neighbourhood Name',\n",
       " 'Source of Infection',\n",
       " 'Classification',\n",
       " 'Episode Date',\n",
       " 'Reported Date',\n",
       " 'Client Gender',\n",
       " 'Outcome',\n",
       " 'Currently Hospitalized',\n",
       " 'Currently in ICU',\n",
       " 'Currently Intubated',\n",
       " 'Ever Hospitalized',\n",
       " 'Ever in ICU',\n",
       " 'Ever Intubated']"
      ]
     },
     "execution_count": 175,
     "metadata": {},
     "output_type": "execute_result"
    }
   ],
   "source": [
    "df.columns"
   ]
  },
  {
   "cell_type": "code",
   "execution_count": 176,
   "metadata": {},
   "outputs": [
    {
     "name": "stdout",
     "output_type": "stream",
     "text": [
      "+-------+------------------+-------------------+--------------+------------------+-------------------+--------------+\n",
      "|summary|               _id|Outbreak Associated|     Age Group|Neighbourhood Name|Source of Infection|Classification|\n",
      "+-------+------------------+-------------------+--------------+------------------+-------------------+--------------+\n",
      "|  count|             14911|              14911|         14879|             14298|              14911|         14911|\n",
      "|   mean|           51749.0|               null|          null|              null|               null|          null|\n",
      "| stddev|4304.5792670906485|               null|          null|              null|               null|          null|\n",
      "|    min|             44294|Outbreak Associated|19 and younger|   Agincourt North|      Close contact|     CONFIRMED|\n",
      "|    max|             59204|           Sporadic|           90+|Yorkdale-Glen Park|    Unknown/Missing|      PROBABLE|\n",
      "+-------+------------------+-------------------+--------------+------------------+-------------------+--------------+\n",
      "\n"
     ]
    }
   ],
   "source": [
    "df.describe('_id',\n",
    " 'Outbreak Associated',\n",
    " 'Age Group',\n",
    " 'Neighbourhood Name',\n",
    " 'Source of Infection',\n",
    " 'Classification',           \n",
    " ).show()"
   ]
  },
  {
   "cell_type": "code",
   "execution_count": 177,
   "metadata": {
    "scrolled": true
   },
   "outputs": [
    {
     "name": "stdout",
     "output_type": "stream",
     "text": [
      "+-------+------------+-------------+-------------+--------+\n",
      "|summary|Episode Date|Reported Date|Client Gender| Outcome|\n",
      "+-------+------------+-------------+-------------+--------+\n",
      "|  count|       14911|        14911|        14911|   14911|\n",
      "|   mean|        null|         null|         null|    null|\n",
      "| stddev|        null|         null|         null|    null|\n",
      "|    min|   2020/1/21|    2020/1/23|       FEMALE|  ACTIVE|\n",
      "|    max|    2020/7/9|     2020/7/9|      UNKNOWN|RESOLVED|\n",
      "+-------+------------+-------------+-------------+--------+\n",
      "\n"
     ]
    }
   ],
   "source": [
    "df.describe(\n",
    " 'Episode Date',\n",
    " 'Reported Date',\n",
    " 'Client Gender',\n",
    " 'Outcome'\n",
    " ).show()"
   ]
  },
  {
   "cell_type": "code",
   "execution_count": 178,
   "metadata": {},
   "outputs": [
    {
     "name": "stdout",
     "output_type": "stream",
     "text": [
      "+-------+----------------------+----------------+-------------------+-----------------+-----------+--------------+\n",
      "|summary|Currently Hospitalized|Currently in ICU|Currently Intubated|Ever Hospitalized|Ever in ICU|Ever Intubated|\n",
      "+-------+----------------------+----------------+-------------------+-----------------+-----------+--------------+\n",
      "|  count|                 14911|           14911|              14911|            14911|      14911|         14911|\n",
      "|   mean|                  null|            null|               null|             null|       null|          null|\n",
      "| stddev|                  null|            null|               null|             null|       null|          null|\n",
      "|    min|                    No|              No|                 No|               No|         No|            No|\n",
      "|    max|                   Yes|             Yes|                Yes|              Yes|        Yes|           Yes|\n",
      "+-------+----------------------+----------------+-------------------+-----------------+-----------+--------------+\n",
      "\n"
     ]
    }
   ],
   "source": [
    "df.describe(\n",
    " 'Currently Hospitalized',\n",
    " 'Currently in ICU',\n",
    " 'Currently Intubated',\n",
    " 'Ever Hospitalized',\n",
    " 'Ever in ICU',\n",
    " 'Ever Intubated').show()"
   ]
  },
  {
   "cell_type": "code",
   "execution_count": 179,
   "metadata": {},
   "outputs": [],
   "source": [
    "select_data = df.select('Outbreak Associated',\n",
    "                        'Age Group','Client Gender','Source of Infection',\n",
    "                        'Outcome','Currently Hospitalized',\n",
    "                        'Currently in ICU','Currently Intubated',\n",
    "                        'Ever Hospitalized','Ever in ICU',\n",
    "                        'Ever Intubated')\n"
   ]
  },
  {
   "cell_type": "code",
   "execution_count": 180,
   "metadata": {},
   "outputs": [
    {
     "data": {
      "text/plain": [
       "['Outbreak Associated',\n",
       " 'Age Group',\n",
       " 'Client Gender',\n",
       " 'Source of Infection',\n",
       " 'Outcome',\n",
       " 'Currently Hospitalized',\n",
       " 'Currently in ICU',\n",
       " 'Currently Intubated',\n",
       " 'Ever Hospitalized',\n",
       " 'Ever in ICU',\n",
       " 'Ever Intubated']"
      ]
     },
     "execution_count": 180,
     "metadata": {},
     "output_type": "execute_result"
    }
   ],
   "source": [
    "select_data.columns"
   ]
  },
  {
   "cell_type": "code",
   "execution_count": 181,
   "metadata": {},
   "outputs": [],
   "source": [
    "import pandas as pd\n",
    "import seaborn as sns\n",
    "\n"
   ]
  },
  {
   "cell_type": "code",
   "execution_count": 182,
   "metadata": {},
   "outputs": [
    {
     "name": "stdout",
     "output_type": "stream",
     "text": [
      "+-------------------+--------------+-------------+--------------------+--------+----------------------+----------------+-------------------+-----------------+-----------+--------------+\n",
      "|Outbreak Associated|     Age Group|Client Gender| Source of Infection| Outcome|Currently Hospitalized|Currently in ICU|Currently Intubated|Ever Hospitalized|Ever in ICU|Ever Intubated|\n",
      "+-------------------+--------------+-------------+--------------------+--------+----------------------+----------------+-------------------+-----------------+-----------+--------------+\n",
      "|           Sporadic|         50-59|         MALE|       Institutional|RESOLVED|                    No|              No|                 No|               No|         No|            No|\n",
      "|           Sporadic|         20-29|         MALE|           Community|RESOLVED|                    No|              No|                 No|              Yes|         No|            No|\n",
      "|           Sporadic|         60-69|       FEMALE|              Travel|RESOLVED|                    No|              No|                 No|              Yes|        Yes|           Yes|\n",
      "|Outbreak Associated|         50-59|       FEMALE|N/A - Outbreak as...|RESOLVED|                    No|              No|                 No|               No|         No|            No|\n",
      "|           Sporadic|         30-39|       FEMALE|       Close contact|RESOLVED|                    No|              No|                 No|               No|         No|            No|\n",
      "|           Sporadic|         20-29|         MALE|       Close contact|RESOLVED|                    No|              No|                 No|               No|         No|            No|\n",
      "|           Sporadic|         60-69|         MALE|           Community|RESOLVED|                    No|              No|                 No|               No|         No|            No|\n",
      "|           Sporadic|         30-39|         MALE|       Close contact|RESOLVED|                    No|              No|                 No|               No|         No|            No|\n",
      "|           Sporadic|         30-39|         MALE|       Close contact|RESOLVED|                    No|              No|                 No|               No|         No|            No|\n",
      "|           Sporadic|19 and younger|         MALE|       Close contact|RESOLVED|                    No|              No|                 No|               No|         No|            No|\n",
      "|           Sporadic|         30-39|         MALE|       Close contact|RESOLVED|                    No|              No|                 No|               No|         No|            No|\n",
      "|Outbreak Associated|         20-29|         MALE|N/A - Outbreak as...|RESOLVED|                    No|              No|                 No|               No|         No|            No|\n",
      "|           Sporadic|         30-39|         MALE|             Pending|RESOLVED|                    No|              No|                 No|               No|         No|            No|\n",
      "|           Sporadic|         30-39|         MALE|       Close contact|RESOLVED|                    No|              No|                 No|               No|         No|            No|\n",
      "|           Sporadic|         80-89|         MALE|           Community|   FATAL|                    No|              No|                 No|              Yes|         No|            No|\n",
      "|           Sporadic|         80-89|       FEMALE|          Healthcare|RESOLVED|                    No|              No|                 No|              Yes|         No|            No|\n",
      "|           Sporadic|         50-59|       FEMALE|       Institutional|RESOLVED|                    No|              No|                 No|               No|         No|            No|\n",
      "|Outbreak Associated|         30-39|         MALE|N/A - Outbreak as...|RESOLVED|                    No|              No|                 No|               No|         No|            No|\n",
      "|           Sporadic|         20-29|         MALE|       Close contact|RESOLVED|                    No|              No|                 No|               No|         No|            No|\n",
      "|Outbreak Associated|         20-29|       FEMALE|N/A - Outbreak as...|RESOLVED|                    No|              No|                 No|               No|         No|            No|\n",
      "+-------------------+--------------+-------------+--------------------+--------+----------------------+----------------+-------------------+-----------------+-----------+--------------+\n",
      "only showing top 20 rows\n",
      "\n"
     ]
    }
   ],
   "source": [
    "select_data.na.drop().show()"
   ]
  },
  {
   "cell_type": "code",
   "execution_count": 183,
   "metadata": {},
   "outputs": [
    {
     "data": {
      "text/plain": [
       "14911"
      ]
     },
     "execution_count": 183,
     "metadata": {},
     "output_type": "execute_result"
    }
   ],
   "source": [
    "select_data.count()"
   ]
  },
  {
   "cell_type": "code",
   "execution_count": 184,
   "metadata": {},
   "outputs": [
    {
     "data": {
      "text/plain": [
       "14879"
      ]
     },
     "execution_count": 184,
     "metadata": {},
     "output_type": "execute_result"
    }
   ],
   "source": [
    "select_data.na.drop().count()"
   ]
  },
  {
   "cell_type": "code",
   "execution_count": 185,
   "metadata": {},
   "outputs": [
    {
     "name": "stdout",
     "output_type": "stream",
     "text": [
      "+-------------------+--------------+-------------+--------------------+--------+----------------------+----------------+-------------------+-----------------+-----------+--------------+\n",
      "|Outbreak Associated|     Age Group|Client Gender| Source of Infection| Outcome|Currently Hospitalized|Currently in ICU|Currently Intubated|Ever Hospitalized|Ever in ICU|Ever Intubated|\n",
      "+-------------------+--------------+-------------+--------------------+--------+----------------------+----------------+-------------------+-----------------+-----------+--------------+\n",
      "|           Sporadic|         50-59|         MALE|       Institutional|RESOLVED|                    No|              No|                 No|               No|         No|            No|\n",
      "|           Sporadic|         20-29|         MALE|           Community|RESOLVED|                    No|              No|                 No|              Yes|         No|            No|\n",
      "|           Sporadic|         60-69|       FEMALE|              Travel|RESOLVED|                    No|              No|                 No|              Yes|        Yes|           Yes|\n",
      "|Outbreak Associated|         50-59|       FEMALE|N/A - Outbreak as...|RESOLVED|                    No|              No|                 No|               No|         No|            No|\n",
      "|           Sporadic|         30-39|       FEMALE|       Close contact|RESOLVED|                    No|              No|                 No|               No|         No|            No|\n",
      "|           Sporadic|         20-29|         MALE|       Close contact|RESOLVED|                    No|              No|                 No|               No|         No|            No|\n",
      "|           Sporadic|         60-69|         MALE|           Community|RESOLVED|                    No|              No|                 No|               No|         No|            No|\n",
      "|           Sporadic|         30-39|         MALE|       Close contact|RESOLVED|                    No|              No|                 No|               No|         No|            No|\n",
      "|           Sporadic|         30-39|         MALE|       Close contact|RESOLVED|                    No|              No|                 No|               No|         No|            No|\n",
      "|           Sporadic|19 and younger|         MALE|       Close contact|RESOLVED|                    No|              No|                 No|               No|         No|            No|\n",
      "|           Sporadic|         30-39|         MALE|       Close contact|RESOLVED|                    No|              No|                 No|               No|         No|            No|\n",
      "|Outbreak Associated|         20-29|         MALE|N/A - Outbreak as...|RESOLVED|                    No|              No|                 No|               No|         No|            No|\n",
      "|           Sporadic|         30-39|         MALE|             Pending|RESOLVED|                    No|              No|                 No|               No|         No|            No|\n",
      "|           Sporadic|         30-39|         MALE|       Close contact|RESOLVED|                    No|              No|                 No|               No|         No|            No|\n",
      "|           Sporadic|         80-89|         MALE|           Community|   FATAL|                    No|              No|                 No|              Yes|         No|            No|\n",
      "|           Sporadic|         80-89|       FEMALE|          Healthcare|RESOLVED|                    No|              No|                 No|              Yes|         No|            No|\n",
      "|           Sporadic|         50-59|       FEMALE|       Institutional|RESOLVED|                    No|              No|                 No|               No|         No|            No|\n",
      "|Outbreak Associated|         30-39|         MALE|N/A - Outbreak as...|RESOLVED|                    No|              No|                 No|               No|         No|            No|\n",
      "|           Sporadic|         20-29|         MALE|       Close contact|RESOLVED|                    No|              No|                 No|               No|         No|            No|\n",
      "|Outbreak Associated|         20-29|       FEMALE|N/A - Outbreak as...|RESOLVED|                    No|              No|                 No|               No|         No|            No|\n",
      "+-------------------+--------------+-------------+--------------------+--------+----------------------+----------------+-------------------+-----------------+-----------+--------------+\n",
      "only showing top 20 rows\n",
      "\n"
     ]
    }
   ],
   "source": [
    "select_data.na.drop().show()"
   ]
  },
  {
   "cell_type": "code",
   "execution_count": 186,
   "metadata": {},
   "outputs": [
    {
     "data": {
      "text/plain": [
       "14911"
      ]
     },
     "execution_count": 186,
     "metadata": {},
     "output_type": "execute_result"
    }
   ],
   "source": [
    "data2=select_data.na.fill(\"NO VALUE\")\n",
    "data2.na.drop().count()\n"
   ]
  },
  {
   "cell_type": "code",
   "execution_count": 187,
   "metadata": {},
   "outputs": [
    {
     "name": "stdout",
     "output_type": "stream",
     "text": [
      "+-------------------+--------------+-------------+--------------------+--------+----------------------+----------------+-------------------+-----------------+-----------+--------------+\n",
      "|Outbreak Associated|     Age Group|Client Gender| Source of Infection| Outcome|Currently Hospitalized|Currently in ICU|Currently Intubated|Ever Hospitalized|Ever in ICU|Ever Intubated|\n",
      "+-------------------+--------------+-------------+--------------------+--------+----------------------+----------------+-------------------+-----------------+-----------+--------------+\n",
      "|           Sporadic|         50-59|         MALE|       Institutional|RESOLVED|                    No|              No|                 No|               No|         No|            No|\n",
      "|           Sporadic|         20-29|         MALE|           Community|RESOLVED|                    No|              No|                 No|              Yes|         No|            No|\n",
      "|           Sporadic|         60-69|       FEMALE|              Travel|RESOLVED|                    No|              No|                 No|              Yes|        Yes|           Yes|\n",
      "|Outbreak Associated|         50-59|       FEMALE|N/A - Outbreak as...|RESOLVED|                    No|              No|                 No|               No|         No|            No|\n",
      "|           Sporadic|         30-39|       FEMALE|       Close contact|RESOLVED|                    No|              No|                 No|               No|         No|            No|\n",
      "|           Sporadic|         20-29|         MALE|       Close contact|RESOLVED|                    No|              No|                 No|               No|         No|            No|\n",
      "|           Sporadic|         60-69|         MALE|           Community|RESOLVED|                    No|              No|                 No|               No|         No|            No|\n",
      "|           Sporadic|         30-39|         MALE|       Close contact|RESOLVED|                    No|              No|                 No|               No|         No|            No|\n",
      "|           Sporadic|         30-39|         MALE|       Close contact|RESOLVED|                    No|              No|                 No|               No|         No|            No|\n",
      "|           Sporadic|19 and younger|         MALE|       Close contact|RESOLVED|                    No|              No|                 No|               No|         No|            No|\n",
      "|           Sporadic|         30-39|         MALE|       Close contact|RESOLVED|                    No|              No|                 No|               No|         No|            No|\n",
      "|Outbreak Associated|         20-29|         MALE|N/A - Outbreak as...|RESOLVED|                    No|              No|                 No|               No|         No|            No|\n",
      "|           Sporadic|         30-39|         MALE|             Pending|RESOLVED|                    No|              No|                 No|               No|         No|            No|\n",
      "|           Sporadic|         30-39|         MALE|       Close contact|RESOLVED|                    No|              No|                 No|               No|         No|            No|\n",
      "|           Sporadic|         80-89|         MALE|           Community|   FATAL|                    No|              No|                 No|              Yes|         No|            No|\n",
      "|           Sporadic|         80-89|       FEMALE|          Healthcare|RESOLVED|                    No|              No|                 No|              Yes|         No|            No|\n",
      "|           Sporadic|         50-59|       FEMALE|       Institutional|RESOLVED|                    No|              No|                 No|               No|         No|            No|\n",
      "|Outbreak Associated|         30-39|         MALE|N/A - Outbreak as...|RESOLVED|                    No|              No|                 No|               No|         No|            No|\n",
      "|           Sporadic|         20-29|         MALE|       Close contact|RESOLVED|                    No|              No|                 No|               No|         No|            No|\n",
      "|Outbreak Associated|         20-29|       FEMALE|N/A - Outbreak as...|RESOLVED|                    No|              No|                 No|               No|         No|            No|\n",
      "+-------------------+--------------+-------------+--------------------+--------+----------------------+----------------+-------------------+-----------------+-----------+--------------+\n",
      "only showing top 20 rows\n",
      "\n"
     ]
    }
   ],
   "source": [
    "data2.show()"
   ]
  },
  {
   "cell_type": "code",
   "execution_count": 188,
   "metadata": {},
   "outputs": [
    {
     "name": "stdout",
     "output_type": "stream",
     "text": [
      "root\n",
      " |-- Outbreak Associated: string (nullable = false)\n",
      " |-- Age Group: string (nullable = false)\n",
      " |-- Client Gender: string (nullable = false)\n",
      " |-- Source of Infection: string (nullable = false)\n",
      " |-- Outcome: string (nullable = false)\n",
      " |-- Currently Hospitalized: string (nullable = false)\n",
      " |-- Currently in ICU: string (nullable = false)\n",
      " |-- Currently Intubated: string (nullable = false)\n",
      " |-- Ever Hospitalized: string (nullable = false)\n",
      " |-- Ever in ICU: string (nullable = false)\n",
      " |-- Ever Intubated: string (nullable = false)\n",
      " |-- Hospitalized: string (nullable = false)\n",
      " |-- ICU: string (nullable = false)\n",
      " |-- Intubated: string (nullable = false)\n",
      " |-- Outcome2: string (nullable = false)\n",
      " |-- Gender: string (nullable = false)\n",
      "\n",
      "+------------+---+---------+--------+------+\n",
      "|Hospitalized|ICU|Intubated|Outcome2|Gender|\n",
      "+------------+---+---------+--------+------+\n",
      "|          No| No|       No|NONFATAL|  MALE|\n",
      "|         Yes| No|       No|NONFATAL|  MALE|\n",
      "|         Yes|Yes|       No|NONFATAL|FEMALE|\n",
      "|          No| No|       No|NONFATAL|FEMALE|\n",
      "|          No| No|       No|NONFATAL|FEMALE|\n",
      "|          No| No|       No|NONFATAL|  MALE|\n",
      "|          No| No|       No|NONFATAL|  MALE|\n",
      "|          No| No|       No|NONFATAL|  MALE|\n",
      "|          No| No|       No|NONFATAL|  MALE|\n",
      "|          No| No|       No|NONFATAL|  MALE|\n",
      "|          No| No|       No|NONFATAL|  MALE|\n",
      "|          No| No|       No|NONFATAL|  MALE|\n",
      "|          No| No|       No|NONFATAL|  MALE|\n",
      "|          No| No|       No|NONFATAL|  MALE|\n",
      "|         Yes| No|       No|   FATAL|  MALE|\n",
      "|         Yes| No|       No|NONFATAL|FEMALE|\n",
      "|          No| No|       No|NONFATAL|FEMALE|\n",
      "|          No| No|       No|NONFATAL|  MALE|\n",
      "|          No| No|       No|NONFATAL|  MALE|\n",
      "|          No| No|       No|NONFATAL|FEMALE|\n",
      "+------------+---+---------+--------+------+\n",
      "only showing top 20 rows\n",
      "\n"
     ]
    }
   ],
   "source": [
    "from pyspark.sql import functions as F\n",
    "data3=data2.withColumn('Hospitalized',F.when(data2['Ever Hospitalized'or'Currently Hospitalized']== \"Yes\",\"Yes\").otherwise(\"No\"))\n",
    "data4 = data3.withColumn('ICU',F.when(data2['Ever in ICU'or'Currently in ICU']== \"Yes\",\"Yes\").otherwise(\"No\"))\n",
    "data5=data4.withColumn('Intubated',F.when(data2['Currently Intubated'or'Ever Intubated']== \"Yes\",\"Yes\").otherwise(\"No\"))\n",
    "data6=data5.withColumn('Outcome2',F.when(data2['Outcome'] == \"RESOLVED\",\"NONFATAL\").when(data2['Outcome'] == \"ACTIVE\",\"NONFATAL\").otherwise(\"FATAL\"))\n",
    "data7=data6.withColumn('Gender',F.when(data2['Client Gender'] == \"FEMALE\",\"FEMALE\").when(data2['Client Gender'] == \"MALE\",\"MALE\").otherwise(\"FATAL\"))\n",
    "data7.printSchema()\n",
    "data7.select('Hospitalized','ICU','Intubated','Outcome2','Gender').show()\n"
   ]
  },
  {
   "cell_type": "code",
   "execution_count": 189,
   "metadata": {},
   "outputs": [
    {
     "name": "stdout",
     "output_type": "stream",
     "text": [
      "+--------+-------------------+--------------+--------------------+------------+---+---------+------+\n",
      "|Outcome2|Outbreak Associated|     Age Group| Source of Infection|Hospitalized|ICU|Intubated|Gender|\n",
      "+--------+-------------------+--------------+--------------------+------------+---+---------+------+\n",
      "|NONFATAL|           Sporadic|         50-59|       Institutional|          No| No|       No|  MALE|\n",
      "|NONFATAL|           Sporadic|         20-29|           Community|         Yes| No|       No|  MALE|\n",
      "|NONFATAL|           Sporadic|         60-69|              Travel|         Yes|Yes|       No|FEMALE|\n",
      "|NONFATAL|Outbreak Associated|         50-59|N/A - Outbreak as...|          No| No|       No|FEMALE|\n",
      "|NONFATAL|           Sporadic|         30-39|       Close contact|          No| No|       No|FEMALE|\n",
      "|NONFATAL|           Sporadic|         20-29|       Close contact|          No| No|       No|  MALE|\n",
      "|NONFATAL|           Sporadic|         60-69|           Community|          No| No|       No|  MALE|\n",
      "|NONFATAL|           Sporadic|         30-39|       Close contact|          No| No|       No|  MALE|\n",
      "|NONFATAL|           Sporadic|         30-39|       Close contact|          No| No|       No|  MALE|\n",
      "|NONFATAL|           Sporadic|19 and younger|       Close contact|          No| No|       No|  MALE|\n",
      "|NONFATAL|           Sporadic|         30-39|       Close contact|          No| No|       No|  MALE|\n",
      "|NONFATAL|Outbreak Associated|         20-29|N/A - Outbreak as...|          No| No|       No|  MALE|\n",
      "|NONFATAL|           Sporadic|         30-39|             Pending|          No| No|       No|  MALE|\n",
      "|NONFATAL|           Sporadic|         30-39|       Close contact|          No| No|       No|  MALE|\n",
      "|   FATAL|           Sporadic|         80-89|           Community|         Yes| No|       No|  MALE|\n",
      "|NONFATAL|           Sporadic|         80-89|          Healthcare|         Yes| No|       No|FEMALE|\n",
      "|NONFATAL|           Sporadic|         50-59|       Institutional|          No| No|       No|FEMALE|\n",
      "|NONFATAL|Outbreak Associated|         30-39|N/A - Outbreak as...|          No| No|       No|  MALE|\n",
      "|NONFATAL|           Sporadic|         20-29|       Close contact|          No| No|       No|  MALE|\n",
      "|NONFATAL|Outbreak Associated|         20-29|N/A - Outbreak as...|          No| No|       No|FEMALE|\n",
      "+--------+-------------------+--------------+--------------------+------------+---+---------+------+\n",
      "only showing top 20 rows\n",
      "\n"
     ]
    }
   ],
   "source": [
    "data8 = data7.select('Outcome2','Outbreak Associated','Age Group','Source of Infection' ,'Hospitalized','ICU','Intubated','Gender')\n",
    "data8.show()"
   ]
  },
  {
   "cell_type": "code",
   "execution_count": 190,
   "metadata": {},
   "outputs": [],
   "source": [
    "from pyspark.ml import Pipeline\n",
    "from pyspark.ml.feature import OneHotEncoder, StringIndexer, VectorAssembler\n",
    "label = \"Outcome2\"\n",
    "#categoricalColumns = ['Outbreak Associated','Age Group','Source of Infection' ,'Hospitalized','ICU','Intubated','Gender']\n",
    "categoricalColumns = ['Age Group','Source of Infection' ,'Hospitalized','ICU','Intubated','Gender']"
   ]
  },
  {
   "cell_type": "code",
   "execution_count": 191,
   "metadata": {},
   "outputs": [],
   "source": [
    "categoricalColumnsclassVec = [c + \"classVec\" for c in categoricalColumns]\n",
    "for categoricalColumn in categoricalColumns:\n",
    "  # Category Indexing with StringIndexer\n",
    "  stringIndexer = StringIndexer(inputCol=categoricalColumn, outputCol = categoricalColumn+\"Index\").setHandleInvalid(\"skip\")\n",
    "  data8 = stringIndexer.fit(data8).transform(data8)\n",
    "  # Use OneHotEncoder to convert categorical variables into binary SparseVectors\n",
    "  encoder = OneHotEncoder(inputCol=categoricalColumn+\"Index\", outputCol=categoricalColumn+\"classVec\")\n",
    "  data8 = encoder.transform(data8)"
   ]
  },
  {
   "cell_type": "code",
   "execution_count": 192,
   "metadata": {},
   "outputs": [],
   "source": [
    "# Convert label into label indices using the StringIndexer\n",
    "label_stringIndexer = StringIndexer(inputCol = label, outputCol = \"label\").setHandleInvalid(\"skip\")\n",
    "data8 = label_stringIndexer.fit(data8).transform(data8)\n"
   ]
  },
  {
   "cell_type": "code",
   "execution_count": 193,
   "metadata": {},
   "outputs": [
    {
     "name": "stdout",
     "output_type": "stream",
     "text": [
      "['Age GroupclassVec', 'Source of InfectionclassVec', 'HospitalizedclassVec', 'ICUclassVec', 'IntubatedclassVec', 'GenderclassVec']\n"
     ]
    }
   ],
   "source": [
    "# Transform all features into a vector using VectorAssembler\n",
    "assemblerInputs = categoricalColumnsclassVec \n",
    "print(assemblerInputs)\n"
   ]
  },
  {
   "cell_type": "code",
   "execution_count": 194,
   "metadata": {},
   "outputs": [],
   "source": [
    "assembler = VectorAssembler(inputCols = assemblerInputs, outputCol=\"features\")\n",
    "data8 = assembler.transform(data8.na.drop())"
   ]
  },
  {
   "cell_type": "code",
   "execution_count": 195,
   "metadata": {
    "scrolled": true
   },
   "outputs": [
    {
     "name": "stdout",
     "output_type": "stream",
     "text": [
      "root\n",
      " |-- label: double (nullable = true)\n",
      " |-- features: vector (nullable = true)\n",
      "\n",
      "+-----+--------------------+\n",
      "|label|            features|\n",
      "+-----+--------------------+\n",
      "|  0.0|(21,[0,15,16,17,1...|\n",
      "|  0.0|(21,[1,11,17,18,2...|\n",
      "|  0.0|(21,[4,13,18,19],...|\n",
      "|  0.0|(21,[0,9,16,17,18...|\n",
      "|  0.0|(21,[2,10,16,17,1...|\n",
      "|  0.0|(21,[1,10,16,17,1...|\n",
      "|  0.0|(21,[4,11,16,17,1...|\n",
      "|  0.0|(21,[2,10,16,17,1...|\n",
      "|  0.0|(21,[2,10,16,17,1...|\n",
      "|  0.0|(21,[8,10,16,17,1...|\n",
      "|  0.0|(21,[2,10,16,17,1...|\n",
      "|  0.0|(21,[1,9,16,17,18...|\n",
      "|  0.0|(21,[2,16,17,18,2...|\n",
      "|  0.0|(21,[2,10,16,17,1...|\n",
      "|  1.0|(21,[5,11,17,18,2...|\n",
      "|  0.0|(21,[5,12,17,18,1...|\n",
      "|  0.0|(21,[0,15,16,17,1...|\n",
      "|  0.0|(21,[2,9,16,17,18...|\n",
      "|  0.0|(21,[1,10,16,17,1...|\n",
      "|  0.0|(21,[1,9,16,17,18...|\n",
      "+-----+--------------------+\n",
      "only showing top 20 rows\n",
      "\n"
     ]
    }
   ],
   "source": [
    "# Keep relevant columns\n",
    "selectedcols = [\"label\", \"features\"]\n",
    "data8 = data8.select(selectedcols)\n",
    "data8.printSchema()\n",
    "data8.show()\n"
   ]
  },
  {
   "cell_type": "code",
   "execution_count": 196,
   "metadata": {},
   "outputs": [],
   "source": [
    "from pyspark.ml.feature import ChiSqSelector\n",
    "from pyspark.ml.linalg import Vectors"
   ]
  },
  {
   "cell_type": "code",
   "execution_count": 197,
   "metadata": {},
   "outputs": [
    {
     "name": "stdout",
     "output_type": "stream",
     "text": [
      "ChiSqSelector output with top 5 features selected\n",
      "+-----+--------------------+----------------+\n",
      "|label|            features|selectedFeatures|\n",
      "+-----+--------------------+----------------+\n",
      "|  0.0|(21,[0,15,16,17,1...|   (5,[0],[1.0])|\n",
      "|  0.0|(21,[1,11,17,18,2...|   (5,[1],[1.0])|\n",
      "|  0.0|(21,[4,13,18,19],...|       (5,[],[])|\n",
      "|  0.0|(21,[0,9,16,17,18...|   (5,[0],[1.0])|\n",
      "|  0.0|(21,[2,10,16,17,1...|   (5,[2],[1.0])|\n",
      "|  0.0|(21,[1,10,16,17,1...|   (5,[1],[1.0])|\n",
      "|  0.0|(21,[4,11,16,17,1...|       (5,[],[])|\n",
      "|  0.0|(21,[2,10,16,17,1...|   (5,[2],[1.0])|\n",
      "|  0.0|(21,[2,10,16,17,1...|   (5,[2],[1.0])|\n",
      "|  0.0|(21,[8,10,16,17,1...|       (5,[],[])|\n",
      "|  0.0|(21,[2,10,16,17,1...|   (5,[2],[1.0])|\n",
      "|  0.0|(21,[1,9,16,17,18...|   (5,[1],[1.0])|\n",
      "|  0.0|(21,[2,16,17,18,2...|   (5,[2],[1.0])|\n",
      "|  0.0|(21,[2,10,16,17,1...|   (5,[2],[1.0])|\n",
      "|  1.0|(21,[5,11,17,18,2...|   (5,[4],[1.0])|\n",
      "|  0.0|(21,[5,12,17,18,1...|   (5,[4],[1.0])|\n",
      "|  0.0|(21,[0,15,16,17,1...|   (5,[0],[1.0])|\n",
      "|  0.0|(21,[2,9,16,17,18...|   (5,[2],[1.0])|\n",
      "|  0.0|(21,[1,10,16,17,1...|   (5,[1],[1.0])|\n",
      "|  0.0|(21,[1,9,16,17,18...|   (5,[1],[1.0])|\n",
      "+-----+--------------------+----------------+\n",
      "only showing top 20 rows\n",
      "\n"
     ]
    }
   ],
   "source": [
    "selector = ChiSqSelector(numTopFeatures=5, featuresCol=\"features\",\n",
    "                         outputCol=\"selectedFeatures\", labelCol=\"label\")\n",
    "result = selector.fit(data8).transform(data8)\n",
    "print(\"ChiSqSelector output with top %d features selected\" % selector.getNumTopFeatures())\n",
    "result.show()"
   ]
  },
  {
   "cell_type": "code",
   "execution_count": 198,
   "metadata": {},
   "outputs": [
    {
     "name": "stdout",
     "output_type": "stream",
     "text": [
      "ratio: 12\n"
     ]
    }
   ],
   "source": [
    "major_df = result.filter(result[\"label\"] == 0)\n",
    "minor_df = result.filter(result[\"label\"] == 1)\n",
    "ratio = int(major_df.count()/minor_df.count())\n",
    "print(\"ratio: {}\".format(ratio))"
   ]
  },
  {
   "cell_type": "code",
   "execution_count": 199,
   "metadata": {},
   "outputs": [
    {
     "name": "stdout",
     "output_type": "stream",
     "text": [
      "+-----+--------------------+----------------+\n",
      "|label|            features|selectedFeatures|\n",
      "+-----+--------------------+----------------+\n",
      "|  0.0|(21,[1,10,16,17,1...|   (5,[1],[1.0])|\n",
      "|  0.0|(21,[2,10,16,17,1...|   (5,[2],[1.0])|\n",
      "|  0.0|(21,[0,9,16,17,18...|   (5,[0],[1.0])|\n",
      "|  0.0|(21,[3,13,16,17,1...|   (5,[3],[1.0])|\n",
      "|  0.0|(21,[5,12,17,18,1...|   (5,[4],[1.0])|\n",
      "|  0.0|(21,[1,9,16,17,18...|   (5,[1],[1.0])|\n",
      "|  0.0|(21,[0,10,16,17,1...|   (5,[0],[1.0])|\n",
      "|  0.0|(21,[4,13,16,17,1...|       (5,[],[])|\n",
      "|  0.0|(21,[2,9,16,17,18...|   (5,[2],[1.0])|\n",
      "|  0.0|(21,[4,10,17,18,2...|       (5,[],[])|\n",
      "|  0.0|(21,[0,9,16,17,18...|   (5,[0],[1.0])|\n",
      "|  0.0|(21,[0,10,16,17,1...|   (5,[0],[1.0])|\n",
      "|  0.0|(21,[7,10,16,17,1...|       (5,[],[])|\n",
      "|  0.0|(21,[2,10,16,17,1...|   (5,[2],[1.0])|\n",
      "|  0.0|(21,[7,10,17,18,2...|       (5,[],[])|\n",
      "|  0.0|(21,[0,12,16,17,1...|   (5,[0],[1.0])|\n",
      "|  0.0|(21,[0,14,16,17,1...|   (5,[0],[1.0])|\n",
      "|  0.0|(21,[3,10,16,17,1...|   (5,[3],[1.0])|\n",
      "|  0.0|(21,[0,9,16,17,18...|   (5,[0],[1.0])|\n",
      "|  0.0|(21,[1,9,16,17,18...|   (5,[1],[1.0])|\n",
      "+-----+--------------------+----------------+\n",
      "only showing top 20 rows\n",
      "\n"
     ]
    }
   ],
   "source": [
    "sampled_majority_df = major_df.sample(False, 1/ratio)\n",
    "combined_df_2 = sampled_majority_df.unionAll(minor_df)\n",
    "combined_df_2.show()"
   ]
  },
  {
   "cell_type": "code",
   "execution_count": 200,
   "metadata": {},
   "outputs": [
    {
     "name": "stdout",
     "output_type": "stream",
     "text": [
      "ratio: 1\n"
     ]
    }
   ],
   "source": [
    "major_df3 = combined_df_2.filter(combined_df_2[\"label\"] == 0)\n",
    "minor_df3 = combined_df_2.filter(combined_df_2[\"label\"] == 1)\n",
    "ratio2 = int(major_df3.count()/minor_df3.count())\n",
    "print(\"ratio: {}\".format(ratio2))"
   ]
  },
  {
   "cell_type": "code",
   "execution_count": 201,
   "metadata": {},
   "outputs": [
    {
     "data": {
      "text/plain": [
       "DataFrame[label: double, features: vector, selectedFeatures: vector]"
      ]
     },
     "metadata": {},
     "output_type": "display_data"
    }
   ],
   "source": [
    "#Split Data into Train and Test sets\n",
    "train, test = combined_df_2.randomSplit([0.7, 0.3], seed=1337)\n",
    "display(train)"
   ]
  },
  {
   "cell_type": "code",
   "execution_count": 202,
   "metadata": {},
   "outputs": [],
   "source": [
    "from pyspark.ml.classification import DecisionTreeClassifier\n",
    "#from pyspark.ml import Pipeline\n",
    "dtc = DecisionTreeClassifier(labelCol='label',featuresCol='features')\n",
    "dtc_model = dtc.fit(train)\n",
    "dtc_predictions = dtc_model.transform(test)\n"
   ]
  },
  {
   "cell_type": "code",
   "execution_count": 203,
   "metadata": {},
   "outputs": [],
   "source": [
    "from pyspark.ml.classification import RandomForestClassifier\n",
    "rfc = RandomForestClassifier(labelCol='label',featuresCol='features')\n",
    "rfc_model = rfc.fit(train)\n",
    "rfc_predictions = rfc_model.transform(test)\n"
   ]
  },
  {
   "cell_type": "code",
   "execution_count": 204,
   "metadata": {},
   "outputs": [],
   "source": [
    "from pyspark.ml.classification import GBTClassifier\n",
    "gbt = GBTClassifier(labelCol='label',featuresCol='features')\n",
    "gbt_model = gbt.fit(train)\n",
    "gbt_predictions = gbt_model.transform(test)"
   ]
  },
  {
   "cell_type": "code",
   "execution_count": 205,
   "metadata": {},
   "outputs": [],
   "source": [
    "from pyspark.ml.classification import LogisticRegression\n",
    "LR = LogisticRegression(labelCol='label',featuresCol='features')\n",
    "fit_model = LR.fit(train)\n",
    "lr_predictions = fit_model.transform(test)"
   ]
  },
  {
   "cell_type": "code",
   "execution_count": 206,
   "metadata": {},
   "outputs": [],
   "source": [
    "from pyspark.ml.evaluation import BinaryClassificationEvaluator\n",
    "my_binary_eval = BinaryClassificationEvaluator(labelCol = 'label')"
   ]
  },
  {
   "cell_type": "code",
   "execution_count": 207,
   "metadata": {
    "scrolled": true
   },
   "outputs": [
    {
     "name": "stdout",
     "output_type": "stream",
     "text": [
      "DTC\n",
      "0.879272017648057\n"
     ]
    }
   ],
   "source": [
    "print(\"DTC\")\n",
    "print(my_binary_eval.evaluate(dtc_predictions))"
   ]
  },
  {
   "cell_type": "code",
   "execution_count": 208,
   "metadata": {},
   "outputs": [
    {
     "name": "stdout",
     "output_type": "stream",
     "text": [
      "RFC\n",
      "0.9234770066180216\n"
     ]
    }
   ],
   "source": [
    "print(\"RFC\")\n",
    "print(my_binary_eval.evaluate(rfc_predictions))"
   ]
  },
  {
   "cell_type": "code",
   "execution_count": 209,
   "metadata": {},
   "outputs": [
    {
     "name": "stdout",
     "output_type": "stream",
     "text": [
      "GBT\n",
      "0.8683734939759037\n"
     ]
    }
   ],
   "source": [
    "my_binary_gbt_eval = BinaryClassificationEvaluator(labelCol='label', rawPredictionCol='prediction')\n",
    "print(\"GBT\")\n",
    "print(my_binary_gbt_eval.evaluate(gbt_predictions))"
   ]
  },
  {
   "cell_type": "code",
   "execution_count": 210,
   "metadata": {},
   "outputs": [
    {
     "name": "stdout",
     "output_type": "stream",
     "text": [
      "LR\n",
      "0.9257466485660953\n"
     ]
    }
   ],
   "source": [
    "print(\"LR\")\n",
    "print(my_binary_eval.evaluate(lr_predictions))"
   ]
  },
  {
   "cell_type": "code",
   "execution_count": 211,
   "metadata": {},
   "outputs": [],
   "source": [
    "from pyspark.ml.evaluation import MulticlassClassificationEvaluator"
   ]
  },
  {
   "cell_type": "code",
   "execution_count": 212,
   "metadata": {},
   "outputs": [],
   "source": [
    "# Select (prediction, true label) and compute test error. \n",
    "acc_evaluator = MulticlassClassificationEvaluator(labelCol=\"label\", predictionCol=\"prediction\", metricName=\"accuracy\")"
   ]
  },
  {
   "cell_type": "code",
   "execution_count": 213,
   "metadata": {},
   "outputs": [],
   "source": [
    "dtc_acc = acc_evaluator.evaluate(dtc_predictions)\n",
    "rfc_acc = acc_evaluator.evaluate(rfc_predictions)\n",
    "gbt_acc = acc_evaluator.evaluate(gbt_predictions)\n",
    "lr_acc = acc_evaluator.evaluate(lr_predictions)"
   ]
  },
  {
   "cell_type": "code",
   "execution_count": 214,
   "metadata": {},
   "outputs": [
    {
     "name": "stdout",
     "output_type": "stream",
     "text": [
      "----------------------------------------\n",
      "A single decision tree has an accuracy of: 87.19%\n",
      "----------------------------------------\n",
      "A random forest ensemble has an accuracy of: 87.48%\n",
      "----------------------------------------\n",
      "An ensemble using GBT has an accuracy of: 86.61%\n",
      "----------------------------------------\n",
      "An LogisticRegression has an accuracy of: 87.34%\n"
     ]
    }
   ],
   "source": [
    "# Let's do something a bit more complex in terms of printing, just so it's formatted nicer. \n",
    "print('-'*40)\n",
    "print('A single decision tree has an accuracy of: {0:2.2f}%'.format(dtc_acc*100))\n",
    "print('-'*40)\n",
    "print('A random forest ensemble has an accuracy of: {0:2.2f}%'.format(rfc_acc*100))\n",
    "print('-'*40)\n",
    "print('An ensemble using GBT has an accuracy of: {0:2.2f}%'.format(gbt_acc*100))\n",
    "print('-'*40)\n",
    "print('An LogisticRegression has an accuracy of: {0:2.2f}%'.format(lr_acc*100))"
   ]
  },
  {
   "cell_type": "code",
   "execution_count": 215,
   "metadata": {},
   "outputs": [
    {
     "name": "stdout",
     "output_type": "stream",
     "text": [
      "Total Results: 687\n",
      "Total Correct: 599\n"
     ]
    }
   ],
   "source": [
    "totalResults = dtc_predictions.select('label','prediction')\n",
    "\n",
    "correctResults = totalResults.filter(totalResults['label'] == totalResults['prediction'])\n",
    "\n",
    "countTR = totalResults.count()\n",
    "print(\"Total Results: \" + str(countTR))\n",
    "\n",
    "countTC = correctResults.count()\n",
    "print(\"Total Correct: \" + str(countTC))"
   ]
  },
  {
   "cell_type": "code",
   "execution_count": 216,
   "metadata": {},
   "outputs": [
    {
     "name": "stdout",
     "output_type": "stream",
     "text": [
      "Total Results: 687\n",
      "Total Correct: 601\n"
     ]
    }
   ],
   "source": [
    "totalResults = rfc_predictions.select('label','prediction')\n",
    "\n",
    "correctResults = totalResults.filter(totalResults['label'] == totalResults['prediction'])\n",
    "\n",
    "countTR = totalResults.count()\n",
    "print(\"Total Results: \" + str(countTR))\n",
    "\n",
    "countTC = correctResults.count()\n",
    "print(\"Total Correct: \" + str(countTC))"
   ]
  },
  {
   "cell_type": "code",
   "execution_count": 217,
   "metadata": {},
   "outputs": [
    {
     "name": "stdout",
     "output_type": "stream",
     "text": [
      "Total Results: 687\n",
      "Total Correct: 595\n"
     ]
    }
   ],
   "source": [
    "totalResults = gbt_predictions.select('label','prediction')\n",
    "\n",
    "correctResults = totalResults.filter(totalResults['label'] == totalResults['prediction'])\n",
    "\n",
    "countTR = totalResults.count()\n",
    "print(\"Total Results: \" + str(countTR))\n",
    "\n",
    "countTC = correctResults.count()\n",
    "print(\"Total Correct: \" + str(countTC))"
   ]
  },
  {
   "cell_type": "code",
   "execution_count": 218,
   "metadata": {},
   "outputs": [
    {
     "name": "stdout",
     "output_type": "stream",
     "text": [
      "Total Results: 687\n",
      "Total Correct: 600\n"
     ]
    }
   ],
   "source": [
    "totalResults = lr_predictions.select('label','prediction')\n",
    "\n",
    "correctResults = totalResults.filter(totalResults['label'] == totalResults['prediction'])\n",
    "\n",
    "countTR = totalResults.count()\n",
    "print(\"Total Results: \" + str(countTR))\n",
    "\n",
    "countTC = correctResults.count()\n",
    "print(\"Total Correct: \" + str(countTC))"
   ]
  },
  {
   "cell_type": "code",
   "execution_count": null,
   "metadata": {},
   "outputs": [],
   "source": []
  }
 ],
 "metadata": {
  "kernelspec": {
   "display_name": "Python 3",
   "language": "python",
   "name": "python3"
  },
  "language_info": {
   "codemirror_mode": {
    "name": "ipython",
    "version": 3
   },
   "file_extension": ".py",
   "mimetype": "text/x-python",
   "name": "python",
   "nbconvert_exporter": "python",
   "pygments_lexer": "ipython3",
   "version": "3.7.9"
  }
 },
 "nbformat": 4,
 "nbformat_minor": 2
}
